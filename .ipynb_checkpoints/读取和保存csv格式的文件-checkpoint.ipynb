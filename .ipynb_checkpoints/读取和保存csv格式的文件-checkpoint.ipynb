{
 "cells": [
  {
   "cell_type": "code",
   "execution_count": 1,
   "metadata": {},
   "outputs": [],
   "source": [
    "import numpy as np\n",
    "import pandas as pd\n",
    "import csv\n",
    "import os"
   ]
  },
  {
   "cell_type": "code",
   "execution_count": 14,
   "metadata": {},
   "outputs": [
    {
     "name": "stdout",
     "output_type": "stream",
     "text": [
      "(784,)\n"
     ]
    }
   ],
   "source": [
    "#读取csv格式的文件\n",
    "data_set = pd.read_csv('save_filename.csv', header=None)\n",
    "#将DataFrame格式转化为array格式\n",
    "data_set = np.array(data_set)\n",
    "data = data_set[1,1:]\n",
    "print(data.shape)\n"
   ]
  },
  {
   "cell_type": "code",
   "execution_count": null,
   "metadata": {},
   "outputs": [],
   "source": []
  },
  {
   "cell_type": "code",
   "execution_count": null,
   "metadata": {},
   "outputs": [],
   "source": []
  },
  {
   "cell_type": "code",
   "execution_count": null,
   "metadata": {},
   "outputs": [],
   "source": [
    "#保存文件为csv格式  需首先将数据转化为DataFrame格式\n",
    "data_set = pd.DataFrame(data_set)\n",
    "data_set.to_csv('save_filename.csv')"
   ]
  },
  {
   "cell_type": "code",
   "execution_count": null,
   "metadata": {},
   "outputs": [],
   "source": [
    "#使用csv模块读取csv文件 'r'表示读模式\n",
    "with open('filename.csv', 'r') as file:\n",
    "    data_set = csv.reader( file )\n",
    "    print(type(data_set))\n",
    "    temp_set = []\n",
    "    for line in data_set:\n",
    "        temp_set.append(line)\n",
    " \n",
    " \n",
    "#使用csv模块保存为csv格式 'w'表示写模式\n",
    "with open('saved_filename.csv', 'w') as file:\n",
    "    data_set = csv.writer( file )\n",
    "    # data_set.writerows( temp_set ) #一次保存完\n",
    "    for i in range(len(temp_set)): #分开保存\n",
    "        data_set.writerow( temp_set[i] )\n"
   ]
  }
 ],
 "metadata": {
  "kernelspec": {
   "display_name": "Python 3",
   "language": "python",
   "name": "python3"
  },
  "language_info": {
   "codemirror_mode": {
    "name": "ipython",
    "version": 3
   },
   "file_extension": ".py",
   "mimetype": "text/x-python",
   "name": "python",
   "nbconvert_exporter": "python",
   "pygments_lexer": "ipython3",
   "version": "3.6.5"
  }
 },
 "nbformat": 4,
 "nbformat_minor": 2
}
