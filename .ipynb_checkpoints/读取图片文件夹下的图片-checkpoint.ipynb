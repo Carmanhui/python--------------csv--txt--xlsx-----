{
 "cells": [
  {
   "cell_type": "code",
   "execution_count": null,
   "metadata": {},
   "outputs": [],
   "source": [
    "import numpy as np\n",
    "import pandas as pd\n",
    "import csv\n",
    "import os\n",
    "from PIL import Image"
   ]
  },
  {
   "cell_type": "code",
   "execution_count": null,
   "metadata": {},
   "outputs": [],
   "source": [
    "#读取图片文件夹下的图片\n",
    "root_path = 'D:/Code_py/Python库/'\n",
    "images_project = 'image_filesname/'\n",
    "images_path = os.path.join(root_path, images_project)\n",
    "#将图片名称存入列表\n",
    "images_list = os.listdir(images_path)\n",
    "print(images_list)\n",
    "for image_path in images_list:\n",
    "    with Image.open(os.path.join(images_path, image_path)) as im:\n",
    "        #打印图片的信息\n",
    "        # print(im)\n",
    "        #保存图片为另一种格式\n",
    "        im.save( os.path.join(images_path, image_path[:-4]+'.png') )\n"
   ]
  }
 ],
 "metadata": {
  "kernelspec": {
   "display_name": "Python 3",
   "language": "python",
   "name": "python3"
  },
  "language_info": {
   "codemirror_mode": {
    "name": "ipython",
    "version": 3
   },
   "file_extension": ".py",
   "mimetype": "text/x-python",
   "name": "python",
   "nbconvert_exporter": "python",
   "pygments_lexer": "ipython3",
   "version": "3.6.5"
  }
 },
 "nbformat": 4,
 "nbformat_minor": 2
}
