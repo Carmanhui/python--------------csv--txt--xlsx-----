{
 "cells": [
  {
   "cell_type": "code",
   "execution_count": null,
   "metadata": {},
   "outputs": [],
   "source": [
    "import numpy as np\n",
    "import pandas as pd\n",
    "import csv\n",
    "import os\n",
    "from PIL import Image"
   ]
  },
  {
   "cell_type": "code",
   "execution_count": null,
   "metadata": {},
   "outputs": [],
   "source": [
    "#读取txt文件夹下的txt文件\n",
    "root_path = 'D:/Code_py/Python库/'\n",
    "txts_project = 'txt_filesname/'\n",
    "txts_path = os.path.join(root_path, txts_project)\n",
    "#将图片名称存入列表\n",
    "txts_list = os.listdir(txts_path)\n",
    "print(txts_list)\n",
    "all_txt = []\n",
    "for txt_path in txts_list:\n",
    "    with open(os.path.join(txts_path, txt_path),'r',encoding='UTF-8') as txt:\n",
    "        #读取当前txt文件的所有内容\n",
    "        txt_lines = txt.readlines()\n",
    "    txt_label = []\n",
    "    #将当前txt文件的每行切割\n",
    "    for line in txt_lines:\n",
    "        label = line.strip().split(',')\n",
    "        txt_label.append(label)\n",
    "    #保存txt文件为另一种格式\n",
    "    np.save( os.path.join(txts_path, txt_path[:-4]+'.npy'), txt_label )\n",
    "    #存储所有的txt文件内容\n",
    "    all_txt.append(txt_label)"
   ]
  }
 ],
 "metadata": {
  "kernelspec": {
   "display_name": "Python 3",
   "language": "python",
   "name": "python3"
  },
  "language_info": {
   "codemirror_mode": {
    "name": "ipython",
    "version": 3
   },
   "file_extension": ".py",
   "mimetype": "text/x-python",
   "name": "python",
   "nbconvert_exporter": "python",
   "pygments_lexer": "ipython3",
   "version": "3.6.5"
  }
 },
 "nbformat": 4,
 "nbformat_minor": 2
}
