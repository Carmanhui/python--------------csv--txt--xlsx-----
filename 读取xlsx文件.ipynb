{
 "cells": [
  {
   "cell_type": "code",
   "execution_count": null,
   "metadata": {},
   "outputs": [],
   "source": [
    "\n",
    "import numpy as np\n",
    "import pandas as pd\n",
    "import csv\n",
    "import os\n",
    "from PIL import Image\n",
    " \n",
    "#读取xlsx格式的文件 第一个sheet,读取行索引和列索引  DataFrame格式\n",
    "data_set = pd.read_excel('filename.xlsx', sheet_name=0, header=None)\n",
    "#将DataFrame格式转化为array格式\n",
    "data_set = np.array(data_set, dtype=float)\n",
    "print(\"数据类型：\",type(data_set), data_set)\n"
   ]
  }
 ],
 "metadata": {
  "kernelspec": {
   "display_name": "Python 3",
   "language": "python",
   "name": "python3"
  },
  "language_info": {
   "codemirror_mode": {
    "name": "ipython",
    "version": 3
   },
   "file_extension": ".py",
   "mimetype": "text/x-python",
   "name": "python",
   "nbconvert_exporter": "python",
   "pygments_lexer": "ipython3",
   "version": "3.6.5"
  }
 },
 "nbformat": 4,
 "nbformat_minor": 2
}
